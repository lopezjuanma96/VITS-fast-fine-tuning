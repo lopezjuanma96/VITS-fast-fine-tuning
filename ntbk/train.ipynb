{
 "cells": [
  {
   "attachments": {},
   "cell_type": "markdown",
   "metadata": {},
   "source": [
    "## Requirements"
   ]
  },
  {
   "cell_type": "code",
   "execution_count": null,
   "metadata": {},
   "outputs": [],
   "source": [
    "! git clone https://github.com/lopezjuanma96/vits.git\n",
    "%cd vits\n",
    "%pip install -r requirements.txt\n",
    "# build monotonic align\n",
    "%cd monotonic_align/\n",
    "!mkdir monotonic_align\n",
    "!python setup.py build_ext --inplace\n",
    "%cd ..\n",
    "!mkdir data"
   ]
  },
  {
   "attachments": {},
   "cell_type": "markdown",
   "metadata": {},
   "source": [
    "## Get Data"
   ]
  },
  {
   "attachments": {},
   "cell_type": "markdown",
   "metadata": {},
   "source": [
    "### download"
   ]
  },
  {
   "cell_type": "code",
   "execution_count": null,
   "metadata": {},
   "outputs": [],
   "source": [
    "!wget https://huggingface.co/datasets/lopezjm96/spanish_voices/resolve/main/spanish_voices.zip\n",
    "!unzip spanish_voices.zip"
   ]
  },
  {
   "attachments": {},
   "cell_type": "markdown",
   "metadata": {},
   "source": [
    "### to filelists"
   ]
  },
  {
   "cell_type": "code",
   "execution_count": null,
   "metadata": {},
   "outputs": [],
   "source": [
    "import random\n",
    "\n",
    "with open(\"spanish_voices/transcript_coqui.txt\", encoding=\"utf-8\") as f:\n",
    "  original = f.read().split('\\n')\n",
    "\n",
    "ratio = 0.1\n",
    "def split_data(data, ratio):\n",
    "  train_index = list(range(len(data)))\n",
    "  val_index = []\n",
    "  while len(val_index) < ratio * len(train_index):\n",
    "    val_index.append(train_index.pop(random.randint(0, len(train_index)-1)))\n",
    "  return [data[i] for i in train_index], [data[i] for i in val_index]\n",
    "\n",
    "train, val = split_data(original, ratio)\n",
    "\n",
    "with open(\"filelists/spanish_voices_train.txt\", \"w\", encoding=\"utf-8\") as f:\n",
    "  f.write('\\n'.join(train))\n",
    "\n",
    "with open(\"filelists/spanish_voices_val.txt\", \"w\", encoding=\"utf-8\") as f:\n",
    "  f.write('\\n'.join(val))"
   ]
  },
  {
   "attachments": {},
   "cell_type": "markdown",
   "metadata": {},
   "source": [
    "## Preprocess"
   ]
  },
  {
   "cell_type": "code",
   "execution_count": null,
   "metadata": {},
   "outputs": [],
   "source": [
    "!python preprocess.py --text_index 1 --filelists filelists/spanish_voices_train.txt filelists/spanish_voices_val.txt --text_cleaners spanish_cleaners "
   ]
  },
  {
   "attachments": {},
   "cell_type": "markdown",
   "metadata": {},
   "source": [
    "## Train"
   ]
  },
  {
   "cell_type": "code",
   "execution_count": null,
   "metadata": {},
   "outputs": [],
   "source": [
    "!python train.py --config configs/es_base.json"
   ]
  }
 ],
 "metadata": {
  "accelerator": "GPU",
  "colab": {
   "provenance": []
  },
  "gpuClass": "standard",
  "kernelspec": {
   "display_name": "base",
   "language": "python",
   "name": "python3"
  },
  "language_info": {
   "codemirror_mode": {
    "name": "ipython",
    "version": 3
   },
   "file_extension": ".py",
   "mimetype": "text/x-python",
   "name": "python",
   "nbconvert_exporter": "python",
   "pygments_lexer": "ipython3",
   "version": "3.9.13"
  },
  "orig_nbformat": 4
 },
 "nbformat": 4,
 "nbformat_minor": 2
}
