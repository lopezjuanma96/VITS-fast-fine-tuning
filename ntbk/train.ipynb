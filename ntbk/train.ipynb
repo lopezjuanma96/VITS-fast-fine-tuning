{
 "cells": [
  {
   "cell_type": "code",
   "execution_count": null,
   "metadata": {},
   "outputs": [],
   "source": [
    "! git clone https://github.com/lopezjuanma96/VITS-fast-fine-tuning.git\n",
    "%cd VITS-fast-fine-tuning\n",
    "%pip install -r requirements.txt\n",
    "# build monotonic align\n",
    "%cd monotonic_align/\n",
    "!mkdir monotonic_align\n",
    "!python setup.py build_ext --inplace\n",
    "%cd ..\n",
    "!mkdir models\n",
    "!mkdir data"
   ]
  },
  {
   "cell_type": "code",
   "execution_count": null,
   "metadata": {},
   "outputs": [],
   "source": [
    "import json\n",
    "import os\n",
    "\n",
    "%pip install kaggle\n",
    "\n",
    "try:\n",
    "    os.mkdir('/root/.kaggle')\n",
    "except FileExistsError:\n",
    "    pass\n",
    "\n",
    "with open('/root/.kaggle/kaggle.json', 'w') as f:\n",
    "    f.write(json.dumps({\n",
    "        \"username\": \"lopezjuanma96\",\n",
    "        \"key\": \"b0d13c5052167d717ddb9bb06dd5f27d\"\n",
    "    }))"
   ]
  },
  {
   "cell_type": "code",
   "execution_count": null,
   "metadata": {},
   "outputs": [],
   "source": [
    "!kaggle datasets download bryanpark/spanish-single-speaker-speech-dataset -f transcript.txt -p data\n",
    "!unzip data/transcript.txt.zip -d data\n",
    "\n",
    "with open('data/transcript.txt') as f:\n",
    "    transcript_text = f.read()\n",
    "\n",
    "data_file_names = [t.split('|')[0] for t in transcript_text.split('\\n')]\n",
    "\n",
    "print(data_file_names)"
   ]
  },
  {
   "cell_type": "code",
   "execution_count": null,
   "metadata": {},
   "outputs": [],
   "source": [
    "try:\n",
    "    os.mkdir('data/audio')\n",
    "except FileExistsError:\n",
    "    pass\n",
    "\n",
    "use_all_files = False:\n",
    "\n",
    "if use_all_files:\n",
    "    pass\n",
    "else:\n",
    "    data_dst = f'data/audio'\n",
    "    indexes = [0] + [i for i in range(1, len(data_file_names)) if data_file_names[i-1].split('/')[0] != data_file_names[i].split('/')[0]]\n",
    "    for j in indexes:\n",
    "        for i in range(20): #kaggle api only accesses the first 20 files on each folder, after that it raises File Not Found\n",
    "            data_src = data_file_names[j + i]\n",
    "\n",
    "            print(data_src, data_dst)\n",
    "            !kaggle datasets download bryanpark/spanish-single-speaker-speech-dataset -f {data_src} -p {data_dst}"
   ]
  }
 ],
 "metadata": {
  "kernelspec": {
   "display_name": "base",
   "language": "python",
   "name": "python3"
  },
  "language_info": {
   "codemirror_mode": {
    "name": "ipython",
    "version": 3
   },
   "file_extension": ".py",
   "mimetype": "text/x-python",
   "name": "python",
   "nbconvert_exporter": "python",
   "pygments_lexer": "ipython3",
   "version": "3.9.13"
  },
  "orig_nbformat": 4
 },
 "nbformat": 4,
 "nbformat_minor": 2
}
