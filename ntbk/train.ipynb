{
 "cells": [
  {
   "cell_type": "code",
   "execution_count": null,
   "metadata": {},
   "outputs": [],
   "source": [
    "! git clone https://github.com/lopezjuanma96/VITS-fast-fine-tuning.git\n",
    "%cd VITS-fast-fine-tuning\n",
    "%pip install -r requirements.txt\n",
    "# build monotonic align\n",
    "%cd monotonic_align/\n",
    "!mkdir monotonic_align\n",
    "!python setup.py build_ext --inplace\n",
    "%cd ..\n",
    "!mkdir models\n",
    "!mkdir data"
   ]
  },
  {
   "cell_type": "code",
   "execution_count": null,
   "metadata": {},
   "outputs": [],
   "source": [
    "import random\n",
    "%pip install kaggle\n",
    "\n",
    "!kaggle datasets download bryanpark/spanish-single-speaker-speech-dataset -f transcript.txt -p data/transcript.txt\n",
    "\n",
    "with open('data/transcript.txt') as f:\n",
    "    transcript_text = f.read()\n",
    "\n",
    "data_file_names = [t.split('|')[0] for t in transcript_text.split('\\n')]\n",
    "\n",
    "print(data_file_names)\n"
   ]
  },
  {
   "cell_type": "code",
   "execution_count": null,
   "metadata": {},
   "outputs": [],
   "source": [
    "for _ in range(10):\n",
    "    i = random.randint(0, len(data_file_names))\n",
    "    data_src = data_file_names[i]\n",
    "    data_dst = f'data/{data_src.split(\"/\")[1]}'\n",
    "\n",
    "    !kaggle datasets download bryanpark/spanish-single-speaker-speech-dataset -f {data_src} -p {data_dst}"
   ]
  }
 ],
 "metadata": {
  "language_info": {
   "name": "python"
  },
  "orig_nbformat": 4
 },
 "nbformat": 4,
 "nbformat_minor": 2
}
