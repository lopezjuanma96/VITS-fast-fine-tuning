{
 "cells": [
  {
   "cell_type": "code",
   "execution_count": null,
   "metadata": {},
   "outputs": [],
   "source": [
    "! git clone https://github.com/lopezjuanma96/VITS-fast-fine-tuning.git\n",
    "%cd VITS-fast-fine-tuning\n",
    "%pip install -r requirements.txt\n",
    "# build monotonic align\n",
    "%cd monotonic_align/\n",
    "!mkdir monotonic_align\n",
    "!python setup.py build_ext --inplace\n",
    "%cd ..\n",
    "!mkdir pretrained_models\n",
    "%cd pretrained_models\n",
    "# download pretrained discriminator checkpoint\n",
    "!wget https://huggingface.co/spaces/Plachta/VITS-Umamusume-voice-synthesizer/resolve/main/pretrained_models/D_trilingual.pth\n",
    "#!wget https://huggingface.co/spaces/Plachta/VITS-Umamusume-voice-synthesizer/resolve/main/pretrained_models/G_trilingual.pth\n",
    "!wget https://huggingface.co/lopezjm96/spanishVITS/resolve/main/G_spanish.pth -O G_trilingual.pth\n",
    "%cd ..\n",
    "!mkdir data"
   ]
  },
  {
   "cell_type": "code",
   "execution_count": null,
   "metadata": {},
   "outputs": [],
   "source": [
    "import json\n",
    "import os\n",
    "\n",
    "%pip install kaggle\n",
    "\n",
    "try:\n",
    "    os.mkdir('/root/.kaggle')\n",
    "except FileExistsError:\n",
    "    pass\n",
    "\n",
    "with open('/root/.kaggle/kaggle.json', 'w') as f:\n",
    "    f.write(json.dumps({\n",
    "        \"username\": \"lopezjuanma96\",\n",
    "        \"key\": \"b0d13c5052167d717ddb9bb06dd5f27d\"\n",
    "    }))"
   ]
  },
  {
   "cell_type": "code",
   "execution_count": null,
   "metadata": {},
   "outputs": [],
   "source": [
    "!kaggle datasets download bryanpark/spanish-single-speaker-speech-dataset -f transcript.txt -p data\n",
    "!unzip data/transcript.txt.zip -d data\n",
    "\n",
    "with open('data/transcript.txt') as f:\n",
    "    transcript_text = f.read()\n",
    "\n",
    "data_file_names = [t.split('|')[0] for t in transcript_text.split('\\n')]\n",
    "\n",
    "print(data_file_names)"
   ]
  },
  {
   "cell_type": "code",
   "execution_count": null,
   "metadata": {},
   "outputs": [],
   "source": [
    "try:\n",
    "    os.mkdir('data/audio')\n",
    "except FileExistsError:\n",
    "    pass\n",
    "\n",
    "use_all_files = False\n",
    "\n",
    "if use_all_files:\n",
    "    pass\n",
    "else:\n",
    "    data_dst = f'data/audio'\n",
    "    indexes = [0] + [i for i in range(1, len(data_file_names)) if data_file_names[i-1].split('/')[0] != data_file_names[i].split('/')[0]][:-1] #-1 bc last line has empty string\n",
    "    for j in indexes:\n",
    "        for i in range(20): #kaggle api only accesses the first 20 files on each folder, after that it raises File Not Found\n",
    "            data_src = data_file_names[j + i]\n",
    "\n",
    "            print(data_src, data_dst)\n",
    "            !kaggle datasets download bryanpark/spanish-single-speaker-speech-dataset -f {data_src} -p {data_dst}"
   ]
  },
  {
   "cell_type": "code",
   "execution_count": null,
   "metadata": {},
   "outputs": [],
   "source": [
    "#EXTRACTED FROM preprocess.py\n",
    "\n",
    "# load data\n",
    "with open(\"data/transcript.txt\", 'r', encoding='utf-8') as f:\n",
    "    annos = f.readlines()\n",
    "\n",
    "actual_annos_num = 0\n",
    "with open(\"final_annotation_train.txt\", 'w', encoding='utf-8') as f:\n",
    "    for line in annos:\n",
    "        line = line.split('|')\n",
    "        line[0] = f'data/audio/{line[0].split(\"/\")[1]}'\n",
    "        if os.path.exists(line[0]):\n",
    "            line = f'{line[0]}|101|[ES]{line[1]}[ES]\\n'\n",
    "            f.write(line)\n",
    "            actual_annos_num += 1\n",
    "# save annotation file for validation\n",
    "with open(\"final_annotation_val.txt\", 'w', encoding='utf-8') as f:\n",
    "    for line in annos[::actual_annos_num//3]:\n",
    "        line = line.split('|')\n",
    "        line[0] = f'data/audio/{line[0].split(\"/\")[1]}'\n",
    "        if os.path.exists(line[0]):\n",
    "            line = f'{line[0]}|101|[ES]{line[1]}[ES]\\n'\n",
    "            f.write(line)\n",
    "            actual_annos_num += 1"
   ]
  },
  {
   "cell_type": "code",
   "execution_count": null,
   "metadata": {},
   "outputs": [],
   "source": [
    "!python finetune_speaker.py"
   ]
  }
 ],
 "metadata": {
  "kernelspec": {
   "display_name": "base",
   "language": "python",
   "name": "python3"
  },
  "language_info": {
   "codemirror_mode": {
    "name": "ipython",
    "version": 3
   },
   "file_extension": ".py",
   "mimetype": "text/x-python",
   "name": "python",
   "nbconvert_exporter": "python",
   "pygments_lexer": "ipython3",
   "version": "3.9.13"
  },
  "orig_nbformat": 4,
  "colab": {
    "provenance": []
  },
  "accelerator": "GPU",
  "gpuClass": "standard"
 },
 "nbformat": 4,
 "nbformat_minor": 2
}
